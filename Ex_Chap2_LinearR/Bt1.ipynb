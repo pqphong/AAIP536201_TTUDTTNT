{
 "cells": [
  {
   "cell_type": "markdown",
   "id": "1dd607a3",
   "metadata": {},
   "source": [
    "Nhập dữ liệu vào và visualize dữ liệu ra, lưu trữ x và y riêng biệt thành các ma trận tương ứng"
   ]
  },
  {
   "cell_type": "code",
   "execution_count": 2,
   "id": "7b9d36a0",
   "metadata": {},
   "outputs": [
    {
     "ename": "NameError",
     "evalue": "name 'x_vals' is not defined",
     "output_type": "error",
     "traceback": [
      "\u001b[1;31m---------------------------------------------------------------------------\u001b[0m",
      "\u001b[1;31mNameError\u001b[0m                                 Traceback (most recent call last)",
      "Cell \u001b[1;32mIn[2], line 5\u001b[0m\n\u001b[0;32m      2\u001b[0m \u001b[38;5;28;01mimport\u001b[39;00m \u001b[38;5;21;01mnumpy\u001b[39;00m \u001b[38;5;28;01mas\u001b[39;00m \u001b[38;5;21;01mnp\u001b[39;00m\n\u001b[0;32m      3\u001b[0m \u001b[38;5;28;01mimport\u001b[39;00m \u001b[38;5;21;01mpandas\u001b[39;00m \u001b[38;5;28;01mas\u001b[39;00m \u001b[38;5;21;01mpd\u001b[39;00m\n\u001b[1;32m----> 5\u001b[0m X_matrix \u001b[38;5;241m=\u001b[39m [[x] \u001b[38;5;28;01mfor\u001b[39;00m x \u001b[38;5;129;01min\u001b[39;00m x_vals]\n\u001b[0;32m      6\u001b[0m Y_matrix \u001b[38;5;241m=\u001b[39m [[y] \u001b[38;5;28;01mfor\u001b[39;00m y \u001b[38;5;129;01min\u001b[39;00m y_vals]\n\u001b[0;32m      8\u001b[0m plt\u001b[38;5;241m.\u001b[39mfigure(figsize\u001b[38;5;241m=\u001b[39m(\u001b[38;5;241m8\u001b[39m, \u001b[38;5;241m5\u001b[39m))\n",
      "\u001b[1;31mNameError\u001b[0m: name 'x_vals' is not defined"
     ]
    }
   ],
   "source": [
    "import matplotlib.pyplot as plt\n",
    "import numpy as np\n",
    "import pandas as pd\n",
    "\n",
    "X_matrix = [[x] for x in x_vals]\n",
    "Y_matrix = [[y] for y in y_vals]\n",
    "\n",
    "plt.figure(figsize=(8, 5))\n",
    "plt.scatter(x_vals, y_vals, color='blue', marker='x')\n",
    "plt.title(\"Biểu đồ phân tán dữ liệu gốc (x, y)\")\n",
    "plt.xlabel(\"x\")\n",
    "plt.ylabel(\"y\")\n",
    "plt.grid(True)\n",
    "plt.tight_layout()\n",
    "plt.show()"
   ]
  },
  {
   "cell_type": "markdown",
   "id": "f3bb435e",
   "metadata": {},
   "source": [
    "Viết hàm cập nhật giá trị theta 0 và theta 1 sử dụng phương pháp gradient descent với số lượng vòng lặp và learning rate (alpha) tùy chọn."
   ]
  },
  {
   "cell_type": "code",
   "execution_count": null,
   "id": "0764e321",
   "metadata": {},
   "outputs": [],
   "source": [
    "def update_theta_with_tracking(X, Y, alpha, iterations):\n",
    "\n",
    "    m = X.shape[0]\n",
    "    X_bias = np.hstack([np.ones((m, 1)), X])\n",
    "    theta = np.zeros((2, 1))\n",
    "\n",
    "    theta0_list = []\n",
    "    theta1_list = []\n",
    "\n",
    "    for _ in range(iterations):\n",
    "        H = X_bias @ theta\n",
    "        error = H - Y\n",
    "        gradient = (1 / m) * (X_bias.T @ error)\n",
    "        theta = theta - alpha * gradient\n",
    "\n",
    "        theta0_list.append(theta[0][0])\n",
    "        theta1_list.append(theta[1][0])\n",
    "\n",
    "    return theta0_list, theta1_list\n",
    "\n",
    "\n",
    "X_matrix = np.array([[x] for x in x_vals])\n",
    "Y_matrix = np.array([[y] for y in y_vals])\n",
    "theta0_vals, theta1_vals = update_theta_with_tracking(X_matrix, Y_matrix, alpha=0.0001, iterations=1000)\n",
    "\n",
    "\n",
    "theta_df = pd.DataFrame({\n",
    "    \"theta0\": theta0_vals,\n",
    "    \"theta1\": theta1_vals\n",
    "})\n",
    "\n",
    "theta_df\n"
   ]
  },
  {
   "cell_type": "markdown",
   "id": "f6dcc098",
   "metadata": {},
   "source": [
    "Viết hàm tính cost function J ở mỗi vòng lặp"
   ]
  },
  {
   "cell_type": "code",
   "execution_count": null,
   "id": "294924e2",
   "metadata": {},
   "outputs": [],
   "source": [
    "def compute_cost_matrix(X_bias, Y, theta):\n",
    "    \"\"\"\n",
    "    Tính giá trị J(θ) = (1 / 2m) * (Xθ - Y)^T (Xθ - Y)\n",
    "    \"\"\"\n",
    "    m = len(Y)\n",
    "    H = X_bias @ theta\n",
    "    error = H - Y\n",
    "    J = (1 / (2 * m)) * (error.T @ error)\n",
    "    return J[0][0] \n",
    "\n",
    "def update_theta_with_cost_tracking(X, Y, alpha, iterations):\n",
    "    m = X.shape[0]\n",
    "    X_bias = np.hstack([np.ones((m, 1)), X])\n",
    "    theta = np.zeros((2, 1))\n",
    "\n",
    "    theta0_list = []\n",
    "    theta1_list = []\n",
    "    cost_list = []\n",
    "\n",
    "    for _ in range(iterations):\n",
    "        H = X_bias @ theta\n",
    "        error = H - Y\n",
    "        gradient = (1 / m) * (X_bias.T @ error)\n",
    "        theta = theta - alpha * gradient\n",
    "\n",
    "        theta0_list.append(theta[0][0])\n",
    "        theta1_list.append(theta[1][0])\n",
    "        cost_list.append(compute_cost_matrix(X_bias, Y, theta))\n",
    "\n",
    "    return theta0_list, theta1_list, cost_list\n",
    "\n",
    "\n",
    "theta0_vals, theta1_vals, cost_vals = update_theta_with_cost_tracking(X_matrix, Y_matrix, alpha=0.0001, iterations=1000)\n",
    "\n",
    "\n",
    "theta_df = pd.DataFrame({\n",
    "    \"theta0\": theta0_vals,\n",
    "    \"theta1\": theta1_vals,\n",
    "    \"J(theta)\": cost_vals\n",
    "})\n",
    "\n",
    "theta_df\n"
   ]
  },
  {
   "cell_type": "markdown",
   "id": "572cfee2",
   "metadata": {},
   "source": [
    "Đánh giá tác động của số lượng vòng lặp và các giá trị của learning rate vào hàm cost. Có nghĩa là các bạn phải vẽ sự thay đổi của J sau mỗi vòng lặp ở các giá trị learning rate nhất định."
   ]
  },
  {
   "cell_type": "code",
   "execution_count": null,
   "id": "65f27f7d",
   "metadata": {},
   "outputs": [],
   "source": [
    "# Thử các giá trị learning rate khác nhau để đánh giá sự thay đổi J theo vòng lặp\n",
    "learning_rates_new = [0.00005, 0.0001, 0.0005, 0.0008]\n",
    "iterations = 1000\n",
    "results_new = {}\n",
    "\n",
    "# Chạy gradient descent với từng learning rate\n",
    "for alpha in learning_rates_new:\n",
    "    _, _, cost_vals = update_theta_with_cost_tracking(X_matrix, Y_matrix, alpha=alpha, iterations=iterations)\n",
    "    results_new[f\"alpha={alpha}\"] = cost_vals\n",
    "\n",
    "# Vẽ đồ thị biểu diễn J(theta) theo số vòng lặp với các learning rate mới\n",
    "plt.figure(figsize=(10, 6))\n",
    "for label, costs in results_new.items():\n",
    "    plt.plot(range(iterations), costs, label=label)\n",
    "\n",
    "plt.title(\"Sự thay đổi của J(theta) theo số vòng lặp với các learning rate khác nhau\")\n",
    "plt.xlabel(\"Số vòng lặp\")\n",
    "plt.ylabel(\"Giá trị J(theta)\")\n",
    "plt.legend()\n",
    "plt.grid(True)\n",
    "plt.tight_layout()\n",
    "plt.show()\n"
   ]
  },
  {
   "cell_type": "markdown",
   "id": "15bd4ea0",
   "metadata": {},
   "source": [
    "Biểu diễn đường thẳng cuối cùng tìm thấy và các điểm dữ liệu trên cùng một trục tọa độ."
   ]
  },
  {
   "cell_type": "code",
   "execution_count": null,
   "id": "0d8257c2",
   "metadata": {},
   "outputs": [],
   "source": [
    "# Lấy theta cuối cùng từ danh sách các giá trị đã lưu\n",
    "theta0 = theta0_vals[-1]\n",
    "theta1 = theta1_vals[-1]\n",
    "\n",
    "# Tạo mảng từ dữ liệu gốc\n",
    "x_array = np.array(x_vals)\n",
    "y_array = np.array(y_vals)\n",
    "\n",
    "# Tính y dự đoán từ đường thẳng hồi quy\n",
    "y_pred = theta0 + theta1 * x_array\n",
    "\n",
    "# Vẽ biểu đồ dữ liệu và đường hồi quy\n",
    "plt.figure(figsize=(8, 5))\n",
    "plt.scatter(x_vals, y_vals, color='blue', marker='x')\n",
    "plt.plot(x_array, y_pred, color='red', label='Đường hồi quy (theta)')\n",
    "plt.title(\"Biểu diễn đường thẳng hồi quy và dữ liệu gốc\")\n",
    "plt.xlabel(\"x\")\n",
    "plt.ylabel(\"y\")\n",
    "plt.legend()\n",
    "plt.grid(True)\n",
    "plt.tight_layout()\n",
    "plt.show()\n"
   ]
  }
 ],
 "metadata": {
  "kernelspec": {
   "display_name": "base",
   "language": "python",
   "name": "python3"
  },
  "language_info": {
   "codemirror_mode": {
    "name": "ipython",
    "version": 3
   },
   "file_extension": ".py",
   "mimetype": "text/x-python",
   "name": "python",
   "nbconvert_exporter": "python",
   "pygments_lexer": "ipython3",
   "version": "3.12.7"
  }
 },
 "nbformat": 4,
 "nbformat_minor": 5
}
