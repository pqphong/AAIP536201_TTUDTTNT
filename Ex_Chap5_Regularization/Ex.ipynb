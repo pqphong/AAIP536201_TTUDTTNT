{
 "cells": [
  {
   "cell_type": "markdown",
   "id": "853cd2f7",
   "metadata": {},
   "source": [
    "Mô hình dữ liệu x theo dạng bậc 6"
   ]
  },
  {
   "cell_type": "code",
   "execution_count": 19,
   "id": "905f7f30",
   "metadata": {},
   "outputs": [],
   "source": [
    "import numpy as np\n",
    "import pandas as pd\n",
    "import matplotlib.pyplot as plt\n",
    "\n",
    "def mapFeature(x1, x2, degree=6):\n",
    "    out = [np.ones(x1.shape[0])]\n",
    "    for i in range(1, degree + 1):\n",
    "        for j in range(i + 1):\n",
    "            out.append((x1 ** (i - j)) * (x2 ** j))\n",
    "    return np.stack(out, axis=1)"
   ]
  },
  {
   "cell_type": "markdown",
   "id": "de911791",
   "metadata": {},
   "source": [
    "1. Chia dữ liệu ra thành 2 tập: training (70%) và validation (30%). Phải đảm bảo việc chia dữ liệu là ngẫu nhiên và tỷ lệ positive và negative cân bằng."
   ]
  },
  {
   "cell_type": "code",
   "execution_count": 20,
   "id": "18be6241",
   "metadata": {},
   "outputs": [
    {
     "name": "stdout",
     "output_type": "stream",
     "text": [
      "Data training: 82\n",
      "  Positive: 40\n",
      "  Negative: 42\n",
      "Data validation: 36\n",
      "  Positive: 18\n",
      "  Negative: 18\n"
     ]
    }
   ],
   "source": [
    "df = pd.read_csv('data5.txt', header=None)\n",
    "df.columns = ['x1', 'x2', 'y']\n",
    "\n",
    "X_raw = df[['x1', 'x2']].values\n",
    "y = df['y'].values\n",
    "\n",
    "X_mapped = mapFeature(X_raw[:, 0], X_raw[:, 1]) \n",
    "\n",
    "idx_pos = np.where(y == 1)[0]\n",
    "idx_neg = np.where(y == 0)[0]\n",
    "\n",
    "np.random.seed(42)\n",
    "np.random.shuffle(idx_pos)\n",
    "np.random.shuffle(idx_neg)\n",
    "\n",
    "n_pos_train = int(0.7 * len(idx_pos))\n",
    "n_neg_train = int(0.7 * len(idx_neg))\n",
    "\n",
    "idx_train = np.concatenate([idx_pos[:n_pos_train], idx_neg[:n_neg_train]])\n",
    "idx_val   = np.concatenate([idx_pos[n_pos_train:], idx_neg[n_neg_train:]])\n",
    "\n",
    "np.random.shuffle(idx_train)\n",
    "np.random.shuffle(idx_val)\n",
    "\n",
    "X_train = X_mapped[idx_train]\n",
    "y_train = y[idx_train]\n",
    "X_val   = X_mapped[idx_val]\n",
    "y_val   = y[idx_val]\n",
    "\n",
    "print(\"Data training:\", X_train.shape[0])\n",
    "print(\"  Positive:\", np.sum(y_train == 1))\n",
    "print(\"  Negative:\", np.sum(y_train == 0))\n",
    "\n",
    "print(\"Data validation:\", X_val.shape[0])\n",
    "print(\"  Positive:\", np.sum(y_val == 1))\n",
    "print(\"  Negative:\", np.sum(y_val == 0))\n",
    "\n",
    "train_full = np.hstack((X_train, y_train.reshape(-1, 1)))\n",
    "val_full   = np.hstack((X_val, y_val.reshape(-1, 1)))\n",
    "\n",
    "np.savetxt('train_data.txt', train_full, delimiter='\\t', fmt='%.6f')\n",
    "np.savetxt('val_data.txt', val_full, delimiter='\\t', fmt='%.6f')"
   ]
  },
  {
   "cell_type": "markdown",
   "id": "7e92e88e",
   "metadata": {},
   "source": [
    "2. Viết chương trình cho phép học các tham số của mô hình phân loại phi tuyến trên có sử dụng regularization L2 và L1."
   ]
  },
  {
   "cell_type": "code",
   "execution_count": 21,
   "id": "adaab332",
   "metadata": {},
   "outputs": [
    {
     "name": "stdout",
     "output_type": "stream",
     "text": [
      "Iteration 0: J = 0.687128\n",
      "Iteration 100: J = 0.500398\n",
      "Iteration 200: J = 0.445871\n",
      "Iteration 300: J = 0.421463\n",
      "Iteration 400: J = 0.408490\n",
      "Iteration 500: J = 0.400927\n",
      "Iteration 600: J = 0.396254\n",
      "Iteration 700: J = 0.393245\n",
      "Iteration 800: J = 0.391247\n",
      "Iteration 900: J = 0.389885\n",
      "Iteration 0: J = 0.691952\n",
      "Iteration 100: J = 0.627399\n",
      "Iteration 200: J = 0.585877\n",
      "Iteration 300: J = 0.554885\n",
      "Iteration 400: J = 0.530891\n",
      "Iteration 500: J = 0.511805\n",
      "Iteration 600: J = 0.496278\n",
      "Iteration 700: J = 0.483400\n",
      "Iteration 800: J = 0.472546\n",
      "Iteration 900: J = 0.463269\n",
      "J (L2): 0.38894432999861533\n",
      "J (L1): 0.4553235189228132\n"
     ]
    }
   ],
   "source": [
    "train_data = np.loadtxt('train_data.txt', delimiter='\\t')\n",
    "X_train = train_data[:, :-1]\n",
    "y_train = train_data[:, -1]\n",
    "\n",
    "def sigmoid(z):\n",
    "    return 1 / (1 + np.exp(-z))\n",
    "\n",
    "def compute_cost(theta, X, y, lambd=0.0, regularization='l2'):\n",
    "    m = len(y)\n",
    "    h = sigmoid(X @ theta)\n",
    "    epsilon = 1e-8  # log(0)\n",
    "\n",
    "    cost = -np.mean(y * np.log(h + epsilon) + (1 - y) * np.log(1 - h + epsilon))\n",
    "\n",
    "    # skip theta[0]\n",
    "    if regularization == 'l2':\n",
    "        reg = (lambd / (2 * m)) * np.sum(theta[1:] ** 2)\n",
    "    elif regularization == 'l1':\n",
    "        reg = (lambd / m) * np.sum(np.abs(theta[1:]))\n",
    "    else:\n",
    "        reg = 0\n",
    "\n",
    "    return cost + reg\n",
    "\n",
    "def compute_gradient(theta, X, y, lambd=0.0, regularization='l2'):\n",
    "    m = len(y)\n",
    "    h = sigmoid(X @ theta)\n",
    "    error = h - y\n",
    "    grad = (1 / m) * (X.T @ error)\n",
    "\n",
    "    if regularization == 'l2':\n",
    "        grad[1:] += (lambd / m) * theta[1:]\n",
    "    elif regularization == 'l1':\n",
    "        grad[1:] += (lambd / m) * np.sign(theta[1:])\n",
    "\n",
    "    return grad\n",
    "\n",
    "def train_logistic_regression(X, y, lambd=0.0, regularization='l2', alpha=0.1, num_iters=1000):\n",
    "    theta = np.zeros(X.shape[1])\n",
    "    J_history = []\n",
    "\n",
    "    for i in range(num_iters):\n",
    "        grad = compute_gradient(theta, X, y, lambd, regularization)\n",
    "        theta -= alpha * grad\n",
    "        J = compute_cost(theta, X, y, lambd, regularization)\n",
    "        J_history.append(J)\n",
    "        \n",
    "        if i % 100 == 0:\n",
    "            print(f\"Iteration {i}: J = {J:.6f}\")\n",
    "\n",
    "    return theta, J_history\n",
    "\n",
    "theta_l2, J_l2_history = train_logistic_regression(\n",
    "    X_train, y_train, lambd=0.1, regularization='l2', alpha=0.5, num_iters=1000\n",
    ")\n",
    "\n",
    "theta_l1, J_l1_history = train_logistic_regression(\n",
    "    X_train, y_train, lambd=0.1, regularization='l1', alpha=0.1, num_iters=1000\n",
    ")\n",
    "\n",
    "print(\"J (L2):\", J_l2_history[-1])\n",
    "print(\"J (L1):\", J_l1_history[-1])"
   ]
  },
  {
   "cell_type": "markdown",
   "id": "2e493500",
   "metadata": {},
   "source": [
    "3. Tính J ở mỗi vòng lặp cho cả hai tập, chọn điểm dừng phù hợp."
   ]
  },
  {
   "cell_type": "code",
   "execution_count": 22,
   "id": "b0084237",
   "metadata": {},
   "outputs": [
    {
     "name": "stdout",
     "output_type": "stream",
     "text": [
      "Iter 0: J_train = 0.68713, J_val = 0.68819\n",
      "Iter 100: J_train = 0.50040, J_val = 0.56826\n",
      "Iter 200: J_train = 0.44587, J_val = 0.55260\n",
      "Early stopping at iteration 251 (val loss converged)\n"
     ]
    },
    {
     "data": {
      "image/png": "[encoded data removed]",
      "text/plain": [
       "<Figure size 640x480 with 1 Axes>"
      ]
     },
     "metadata": {},
     "output_type": "display_data"
    }
   ],
   "source": [
    "train_data = np.loadtxt('train_data.txt', delimiter='\\t')\n",
    "X_train = train_data[:, :-1]\n",
    "y_train = train_data[:, -1]\n",
    "\n",
    "val_data = np.loadtxt('val_data.txt', delimiter='\\t')\n",
    "X_val = val_data[:, :-1]\n",
    "y_val = val_data[:, -1]\n",
    "\n",
    "def train_with_validation(X_train, y_train, X_val, y_val, lambd=0.1, regularization='l2',\n",
    "                          alpha=0.1, num_iters=1000, tol=1e-5):\n",
    "    theta = np.zeros(X_train.shape[1])\n",
    "    J_train_hist = []\n",
    "    J_val_hist = []\n",
    "    \n",
    "    for i in range(num_iters):\n",
    "        grad = compute_gradient(theta, X_train, y_train, lambd, regularization)\n",
    "        theta -= alpha * grad\n",
    "\n",
    "        # Tính J cho train và val\n",
    "        J_train = compute_cost(theta, X_train, y_train, lambd, regularization)\n",
    "        J_val   = compute_cost(theta, X_val, y_val, lambd, regularization)\n",
    "        \n",
    "        J_train_hist.append(J_train)\n",
    "        J_val_hist.append(J_val)\n",
    "\n",
    "        # In thông tin mỗi 100 vòng\n",
    "        if i % 100 == 0:\n",
    "            print(f\"Iter {i}: J_train = {J_train:.5f}, J_val = {J_val:.5f}\")\n",
    "        \n",
    "        # Kiểm tra hội tụ sớm\n",
    "        if i > 10 and abs(J_val_hist[-2] - J_val_hist[-1]) < tol:\n",
    "            print(f\"Early stopping at iteration {i} (val loss converged)\")\n",
    "            break\n",
    "\n",
    "    return theta, J_train_hist, J_val_hist\n",
    "\n",
    "theta_l2, J_train_l2, J_val_l2 = train_with_validation(\n",
    "    X_train, y_train, X_val, y_val,\n",
    "    lambd=0.1, regularization='l2',\n",
    "    alpha=0.5, num_iters=1000\n",
    ")\n",
    "\n",
    "plt.plot(J_train_l2, label='Train Loss')\n",
    "plt.plot(J_val_l2, label='Validation Loss')\n",
    "plt.xlabel('Iteration')\n",
    "plt.ylabel('J (Loss)')\n",
    "plt.title('Loss vs Iteration (L2 Regularization)')\n",
    "plt.legend()\n",
    "plt.grid(True)\n",
    "plt.show()\n"
   ]
  }
 ],
 "metadata": {
  "kernelspec": {
   "display_name": "base",
   "language": "python",
   "name": "python3"
  },
  "language_info": {
   "codemirror_mode": {
    "name": "ipython",
    "version": 3
   },
   "file_extension": ".py",
   "mimetype": "text/x-python",
   "name": "python",
   "nbconvert_exporter": "python",
   "pygments_lexer": "ipython3",
   "version": "3.12.7"
  }
 },
 "nbformat": 4,
 "nbformat_minor": 5
}
